{
 "cells": [
  {
   "cell_type": "markdown",
   "metadata": {
    "collapsed": true,
    "pycharm": {
     "is_executing": false,
     "name": "#%% md\n"
    }
   },
   "source": [
    "# PyCharm "
   ]
  },
  {
   "cell_type": "markdown",
   "source": [
    "## Highlights\n",
    "\n",
    "### Special stuff\n",
    "* sync workstation prefs, plugins, keymaps\n",
    "* fuzzy search \"SHIFT+SHIFT\"\n",
    "\n",
    "### Matlab-like features\n",
    "* Run / Debug (can override shortcut keys\n",
    "* linke\n",
    "\n",
    "### Super-integrated Git\n",
    "* Commit with CTRL+K (Push with CTRL+ALT+K)\n",
    "\n",
    "### Native Jupyter Notebook support\n",
    "* run ipython has markdown, \n",
    "* manage server\n",
    "* inline, realtime MD rendering ($e^{i\\pi} + 1 = 0$)\n",
    "\n",
    "## Plugins\n",
    "* Quick File Preview\n",
    "* CSV plugin\n",
    "* Cell Mode execution\n",
    "\n",
    "* CTRL+Q inlinehelp - PIN this\n",
    "* inline variables view; ref: https://www.jetbrains.com/help/pycharm/inline-debugging.html\n",
    "\n",
    "\n",
    "## Ipython\n",
    "* Introduction and overview of IPython’s features.  %quickref\n",
    "* Quick reference. help\n",
    "* Python’s own help system. object?\n",
    "* Details about ‘object’, use ‘object??’ for extra details."
   ],
   "metadata": {
    "collapsed": false,
    "pycharm": {
     "name": "#%% md\n"
    }
   }
  },
  {
   "cell_type": "code",
   "execution_count": 17,
   "outputs": [
    {
     "name": "stdout",
     "text": [
      "0\n",
      "1\n",
      "2\n",
      "3\n",
      "4\n"
     ],
     "output_type": "stream"
    }
   ],
   "source": [
    "for i in range(0,5):\n",
    "    print(i)"
   ],
   "metadata": {
    "collapsed": false,
    "pycharm": {
     "name": "#%%\n",
     "is_executing": false
    }
   }
  },
  {
   "cell_type": "code",
   "execution_count": 18,
   "outputs": [
    {
     "data": {
      "text/plain": "<Figure size 432x288 with 1 Axes>",
      "image/png": "[encoded data removed]"
     },
     "metadata": {
      "needs_background": "light"
     },
     "output_type": "display_data"
    },
    {
     "name": "stdout",
     "text": [
      "plotshown\n"
     ],
     "output_type": "stream"
    }
   ],
   "source": [
    "import matplotlib.pyplot as plt\n",
    "plt.plot([1,2,3], [1,3,4], marker='o', markersize=14, markerfacecolor='red', \n",
    "         linewidth=2, markeredgewidth=2)\n",
    "plt.title('plotTitle', fontname='Comic Sans MS', fontsize=28)\n",
    "plt.show()\n",
    "print('plotshown')\n"
   ],
   "metadata": {
    "collapsed": false,
    "pycharm": {
     "name": "#%% # Let's try to import a library\n",
     "is_executing": false
    }
   }
  },
  {
   "cell_type": "markdown",
   "source": [
    "## Debug features\n",
    "- run configuration concept\n",
    " - drop to console automatically at the end (Command window, after script)\n",
    " - complete at the end\n",
    "- listing all breakpoints in all files in the project. \n",
    " - preserving breakpoints across PyCharm restarts\n",
    " \n"
   ],
   "metadata": {
    "collapsed": false
   }
  },
  {
   "cell_type": "markdown",
   "source": [
    "## shortcuts i customized\n",
    "\n",
    "#* alt < and alt+>  , back, and forward\n",
    "#* CTRL+ENTER - execute cell\n",
    "#* F9 - execute selection \n",
    " "
   ],
   "metadata": {
    "collapsed": false
   }
  },
  {
   "cell_type": "markdown",
   "source": [
    "# Notes\n",
    "* CTRL+G - goto line\n",
    "* CTRL+SHIFT+G - enable/disable code previe plugin\n",
    "* CTRL+Q documentation\n",
    "* CTRL+SPACE, autocomplete popup\n",
    "* SHIFT,SHIFT, search chord\n",
    "* CTRL+SHIFT+ UP or DOWN drags line up and down\n",
    "* SHIFT+CTRL+ALT+J selects and joins all element at cursor, [REF](https://blog.jetbrains.com/pycharm/2014/09/feature-spotlight-multiple-selections-in-pycharm/)\n",
    "* MULTICURSOR\n",
    "    * CTRL+CTRL(HOLD) + UP/DOWN to insert cursors\n",
    "    * press Alt+L_BUTTON_CLICK and select the caret locations with the mouse\n",
    "    * or press Ctrl+G to add the next occurrence of the current word to the selection\n",
    "    * to delete from the selection, press Ctrl+Shift+G.\n",
    "    * to restore single caret mode, use Esc.\n",
    "* SHIFT+DELETE, deletes entire row\n",
    "* ALT+SHIFT+INSERT, Mouse BLOCK Selection Mode\n",
    "* CTRL+UP/DOWN, jump to next cell\n",
    "* CTRL + SHIFT+INSERT, paste from clipboard"
   ],
   "metadata": {
    "collapsed": false,
    "pycharm": {
     "name": "#%% md\n"
    }
   }
  },
  {
   "cell_type": "markdown",
   "source": [
    "# Feature spotlight\n",
    "* select all occurrences: Shift + Ctrl + Alt + J, [ref](https://blog.jetbrains.com/pycharm/2014/09/feature-spotlight-multiple-selections-in-pycharm/)\n",
    "* [my text](www.google.com)\n",
    "* multicursor , [REF](https://www.jetbrains.com/help/rider/Multicursor.html)\n"
   ],
   "metadata": {
    "collapsed": false
   }
  },
  {
   "cell_type": "code",
   "execution_count": 6,
   "outputs": [
    {
     "name": "stdout",
     "text": [
      "done d\n"
     ],
     "output_type": "stream"
    }
   ],
   "source": [
    "##\n",
    "\n",
    "\n",
    "##\n",
    "\n",
    "print('done d')"
   ],
   "metadata": {
    "collapsed": false,
    "pycharm": {
     "name": "#%%\n",
     "is_executing": false
    }
   }
  },
  {
   "cell_type": "code",
   "execution_count": null,
   "outputs": [],
   "source": [
    "\n"
   ],
   "metadata": {
    "collapsed": false,
    "pycharm": {
     "name": "#%%\n"
    }
   }
  }
 ],
 "metadata": {
  "kernelspec": {
   "name": "pycharm-96843d33",
   "language": "python",
   "display_name": "PyCharm (Learning1)"
  },
  "language_info": {
   "codemirror_mode": {
    "name": "ipython",
    "version": 2
   },
   "file_extension": ".py",
   "mimetype": "text/x-python",
   "name": "python",
   "nbconvert_exporter": "python",
   "pygments_lexer": "ipython2",
   "version": "2.7.6"
  },
  "pycharm": {
   "stem_cell": {
    "cell_type": "raw",
    "source": [],
    "metadata": {
     "collapsed": false
    }
   }
  }
 },
 "nbformat": 4,
 "nbformat_minor": 0
}