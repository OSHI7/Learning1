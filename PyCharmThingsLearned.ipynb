{
 "cells": [
  {
   "cell_type": "markdown",
   "metadata": {
    "collapsed": true,
    "pycharm": {
     "is_executing": false,
     "name": "#%% md\n"
    }
   },
   "source": [
    "# PyCharm "
   ]
  },
  {
   "cell_type": "markdown",
   "source": [
    "## Highlights\n",
    "\n",
    "### Special stuff\n",
    "* sync workstation prefs, plugins, keymaps\n",
    "* fuzzy search \"SHIFT+SHIFT\"\n",
    "* Default Layout customizable\n",
    "\n",
    "### Matlab-like features\n",
    "* Run / Debug (can override shortcut keys\n",
    "* linke\n",
    "\n",
    "### Super-integrated Git\n",
    "* Commit with CTRL+K (Push with CTRL+ALT+K)\n",
    "\n",
    "### Native Jupyter Notebook support\n",
    "* run ipython has markdown, \n",
    "* manage server\n",
    "* inline, realtime MD rendering ($e^{i\\pi} + 1 = 0$)\n",
    "\n",
    "## Plugins\n",
    "* Quick File Preview\n",
    "* CSV plugin\n",
    "* Cell Mode execution\n",
    "\n",
    "* CTRL+Q inlinehelp - PIN this\n",
    "* inline variables view; ref: https://www.jetbrains.com/help/pycharm/inline-debugging.html\n",
    "\n",
    "\n",
    "## Ipython\n",
    "* Introduction and overview of IPython’s features.  %quickref\n",
    "* Quick reference. help\n",
    "* Python’s own help system. object?\n",
    "* Details about ‘object’, use ‘object??’ for extra details.\n",
    "* auto-reload modules & libraries with [1-%load_ext autoreload, 2-%autoreload 2]\n"
   ],
   "metadata": {
    "collapsed": false,
    "pycharm": {
     "name": "#%% md\n"
    }
   }
  },
  {
   "cell_type": "code",
   "execution_count": 1,
   "outputs": [
    {
     "name": "stdout",
     "text": [
      "0\n",
      "1\n",
      "2\n",
      "3\n",
      "4\n"
     ],
     "output_type": "stream"
    }
   ],
   "source": [
    "for i in range(0,5):\n",
    "    print(i)"
   ],
   "metadata": {
    "collapsed": false,
    "pycharm": {
     "name": "#%%\n",
     "is_executing": false
    }
   }
  },
  {
   "cell_type": "code",
   "execution_count": 2,
   "outputs": [
    {
     "data": {
      "text/plain": "<Figure size 640x480 with 1 Axes>"
     },
     "metadata": {},
     "output_type": "display_data"
    },
    {
     "name": "stdout",
     "text": [
      "plotshown\n"
     ],
     "output_type": "stream"
    }
   ],
   "source": [
    "import matplotlib.pyplot as plt\n",
    "plt.plot([1,2,3], [1,3,4], marker='o', markersize=14, markerfacecolor='red', \n",
    "         linewidth=2, markeredgewidth=2)\n",
    "plt.title('plotTitle', fontname='Comic Sans MS', fontsize=28)\n",
    "plt.show()\n",
    "print('plotshown')\n"
   ],
   "metadata": {
    "collapsed": false,
    "pycharm": {
     "name": "#%% # Let's try to import a library\n",
     "is_executing": false
    }
   }
  },
  {
   "cell_type": "markdown",
   "source": [
    "## Debug features\n",
    "- [overview](https://www.jetbrains.com/pycharm/) at JetBrains\n",
    "- blue bits in the gutter are stuff changed since last checkin\n",
    "- run configuration concept\n",
    " - drop to console automatically at the end (Command window, after script)\n",
    " - complete at the end\n",
    "- listing all breakpoints in all files in the project. \n",
    " - preserving breakpoints across PyCharm restarts\n",
    "- To show separator lines between methods in the editor, open the editor settings and select the Show method separators check box in the Appearance page. \n",
    "- remap CTRL+SHIFT+F10 to F5, so that it'll run the current file.\n",
    "- import default stuff immediately by customizing the BUILD/EXECUTION/DEBUGGER -> CONSOLE -> (code here, incl def. imports). Also, \"from matlablib import *\" to have access to my functions.\n",
    "- Overwrite with IPython to get magics. USe magics to auto-reload modules (if you need to)\n",
    "- run notebooks\n",
    "- CTRL+TAB to flip back and forth\n",
    "- Built in code-profiling in RUN-profiles\n",
    "- embed() will drop to console immediately without running rest of script\n",
    "\n",
    "## IPython magics:\n",
    "- run file with \"%run Analysis-On-My-Words.py\"\n",
    "- embed() drops to console"
   ],
   "metadata": {
    "collapsed": false
   }
  },
  {
   "cell_type": "markdown",
   "source": [
    "## shortcuts i customized\n",
    "\n",
    "#* alt < and alt+>  , back, and forward\n",
    "#* CTRL+ENTER - execute cell\n",
    "#* F9 - execute selection \n",
    " "
   ],
   "metadata": {
    "collapsed": false
   }
  },
  {
   "cell_type": "markdown",
   "source": [
    "See Settings->Editor->General->Smart Keys\n",
    "CTRL+SHIFT+A            SEARCh actions\n",
    "CTRL+ALT+INSERT         paste from memory\n",
    "\n",
    "\n",
    "\n",
    "\n",
    "# Notes\n",
    "* CTRL+G,           goto line\n",
    "* CTRL+SHIFT+G,     enable/disable code previe plugin\n",
    "* CTRL+Q,           documentation\n",
    "* CTRL+SPACE,       autocomplete popup\n",
    "* SHIFT,SHIFT,      search chord\n",
    "* CTRL+SHIFT+F12,   shortcut keys\n",
    "* CTRL+DELETE       greedy delete to end of word\n",
    "* CTRL+SHIFT+Delete Delete line\n",
    "* ATL+SHIFT+C       show recent history\n",
    "\n",
    "\n",
    "## Navigating\n",
    "* ALT+`,            python console window toggle, JUMPS CURSOR\n",
    "* CTRL+TAB          toggle edit locations (!!)\n",
    "* ALT+ L/RIGHT,     previous/next editing position\n",
    "* SHIFT+SPACE       jump out from cursor (RIGHT\n",
    "* TAB,              jump outside of closing bracket\n",
    "* SHIFT+ENTER,      new line inside of closing bracket\n",
    "* CTRL+E            open recent files\n",
    "* CTRL+ALT+L/R      Next/Prev tab\n",
    "* CTRL+W           Close current tab\n",
    "* CTRL+SHIFT+S      Settings\n",
    "* CTRL+D            declaration or useage (jump to)\n",
    "* F4                jump to source\n",
    "* CTRL+SHIFT+UP/DOWN  - in editor window makes larger/smaller\n",
    "* CTRL+ALT+SHIFT+N  Instantly go to definition (start typing, say \"cc\")\n",
    "\n",
    "## Execution\n",
    "* F5                replace CTRL+SHIFT+F10 (Run Context Configuration) with F5 to run any script\n",
    "\n",
    "## Multi-cursor\n",
    "\n",
    "* MULTICURSOR\n",
    "    * CTRL+CTRL(HOLD) + UP/DOWN to insert cursors\n",
    "    * press Alt+L_BUTTON_CLICK and select the caret locations with the mouse\n",
    "    * ?TODO or press Ctrl+G to add the next occurrence of the current word to the selection\n",
    "    * ?TODO delete from the selection, press Ctrl+Shift+G. \n",
    "* SHIFT+DELETE,         deletes entire row\n",
    "* ALT+SHIFT+INSERT,     Mouse BLOCK Selection Mode\n",
    "* CTRL+UP/DOWN,         jump to next cell\n",
    "* CTRL + SHIFT+INSERT,  paste from clipboard\n",
    "\n",
    "## Selection\n",
    "* CTRL+PgUp, extend selection\n",
    "* CTRL+PgDn, contract selection\n",
    "* CTRL+SHIFT+ UP or DOWN drags line up and down\n",
    "* SHIFT+CTRL+ALT+J selects and joins all element at cursor, [REF](https://blog.jetbrains.com/pycharm/2014/09/feature-spotlight-multiple-selections-in-pycharm/)\n",
    "* CTRL+SHIFT+D      duplicate selection\n",
    "\n",
    "## GIT\n",
    "* CTRL+K, commit\n",
    "* CTRL+ALT+K, commit and push\n",
    "\n",
    "\n",
    "## In Editor\n",
    "* CTRL+ALT+INSERT       New File\n",
    "\n",
    "## HELP\n",
    "* <setting>         Disable Auto-Update from Source\n"
   ],
   "metadata": {
    "collapsed": false,
    "pycharm": {
     "name": "#%% md\n"
    }
   }
  },
  {
   "cell_type": "markdown",
   "source": [
    "# Feature spotlight\n",
    "* select all occurrences: Shift + Ctrl + Alt + J, [ref](https://blog.jetbrains.com/pycharm/2014/09/feature-spotlight-multiple-selections-in-pycharm/)\n",
    "* [my text](www.google.com)\n",
    "* multicursor , [REF](https://www.jetbrains.com/help/rider/Multicursor.html)\n"
   ],
   "metadata": {
    "collapsed": false
   }
  },
  {
   "cell_type": "markdown",
   "source": [
    "# Environment\n",
    "* Settings>console> \"Add whatever I want\" import * from matlablib at every iPython console\n",
    "* iPython MAGICS commands!\n",
    "* clear variables and close graphs using cc()\n",
    "* drop to keyboard via assert(False)\n",
    "\n",
    "##\n",
    "\n",
    "\n",
    "##\n",
    "\n",
    "print('done d')"
   ],
   "metadata": {
    "collapsed": false,
    "pycharm": {
     "name": "#%% md\n",
     "is_executing": false
    }
   }
  },
  {
   "cell_type": "code",
   "execution_count": 2,
   "outputs": [],
   "source": [
    "\n"
   ],
   "metadata": {
    "collapsed": false,
    "pycharm": {
     "name": "#%%\n",
     "is_executing": false
    }
   }
  }
 ],
 "metadata": {
  "kernelspec": {
   "name": "pycharm-96843d33",
   "language": "python",
   "display_name": "PyCharm (Learning1)"
  },
  "language_info": {
   "codemirror_mode": {
    "name": "ipython",
    "version": 2
   },
   "file_extension": ".py",
   "mimetype": "text/x-python",
   "name": "python",
   "nbconvert_exporter": "python",
   "pygments_lexer": "ipython2",
   "version": "2.7.6"
  },
  "pycharm": {
   "stem_cell": {
    "cell_type": "raw",
    "source": [],
    "metadata": {
     "collapsed": false
    }
   }
  }
 },
 "nbformat": 4,
 "nbformat_minor": 0
}