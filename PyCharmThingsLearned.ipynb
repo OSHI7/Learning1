{
 "cells": [
  {
   "cell_type": "markdown",
   "metadata": {
    "collapsed": true,
    "pycharm": {
     "is_executing": false,
     "name": "#%% md\n"
    }
   },
   "source": [
    "# PyCharm \n",
    "* [running scripts before my script](https://stackoverflow.com/questions/48131867/automatically-run-code-on-pycharm-environment-start)"
   ]
  },
  {
   "cell_type": "markdown",
   "metadata": {
    "pycharm": {
     "name": "#%% md\n"
    }
   },
   "source": [
    "## MATLAB system\n",
    "* [scientist workflow in python](https://www.reddit.com/r/Python/comments/50t9hz/fellow_scientists_what_is_your_workflow_in_python/)\n",
    "* [QT-Console alongside Jupyter, tl;dr: jupyter console --existing (in Terminal)](https://stackoverflow.com/questions/42423038/how-to-open-an-ipython-console-connected-to-an-exiting-running-kernel-in-pycharm)\n",
    "* [conversation](https://www.reddit.com/r/Python/comments/6wwnst/new_to_python_fluent_matlab_user_best_ide/)\n",
    "* [Python for matlab slides](http://brain.cin.ucsf.edu/~craig/rstuff/Python_for_Matlab_Users.pdf)\n",
    "* [pycharm vs wingide](https://www.reddit.com/r/Python/comments/k5o7n/pycharm_vs_wingide/)\n",
    "\n",
    "## Jupyter\n",
    "* [visual overview of projects](https://jupyter.readthedocs.io/en/latest/architecture/visual_overview.html)\n",
    "* [relations between Jupyter and IPython](https://stackoverflow.com/questions/51700425/what-is-the-relation-and-difference-between-ipython-and-jupyter-console)\n",
    "\n",
    "## Jupyterlab\n",
    "* [homepage](https://jupyterlab.readthedocs.io/en/stable/)\n"
   ]
  },
  {
   "cell_type": "markdown",
   "metadata": {
    "pycharm": {
     "name": "#%% md\n"
    }
   },
   "source": [
    "## Highlights\n",
    "\n",
    "### Special stuff\n",
    "* sync workstation prefs, plugins, keymaps\n",
    "* fuzzy search \"SHIFT+SHIFT\"\n",
    "* Default Layout customizable\n",
    "* Plug-in marketplace (CodeGlance, QuickFilePreview (VsCode wannabe)\n",
    "* All-in-one management of Python Console, \n",
    "\n",
    "### Matlab-like features\n",
    "* Run / Debug (can override shortcut keys\n",
    "\n",
    "\n",
    "### Super-integrated Git\n",
    "* Commit with CTRL+K (Push with CTRL+ALT+K)\n",
    "\n",
    "### Native Jupyter Notebook support\n",
    "* run ipython has markdown, \n",
    "* manage server\n",
    "* inline, realtime MD rendering ($e^{i\\pi} + 1 = 0$)\n",
    "\n",
    "## Plugins\n",
    "* Quick File Preview\n",
    "* CSV plugin\n",
    "* Cell Mode execution\n",
    "\n",
    "* CTRL+Q inlinehelp - PIN this\n",
    "* inline variables view; ref: https://www.jetbrains.com/help/pycharm/inline-debugging.html\n",
    "\n",
    "\n",
    "## Ipython\n",
    "* Introduction and overview of IPython’s features.  %quickref\n",
    "* Quick reference. help\n",
    "* Python’s own help system. object?\n",
    "* Details about ‘object’, use ‘object??’ for extra details.\n",
    "* auto-reload modules & libraries with [1-%load_ext autoreload, 2-%autoreload 2]\n"
   ]
  },
  {
   "cell_type": "code",
   "execution_count": 1,
   "metadata": {
    "pycharm": {
     "is_executing": false
    }
   },
   "outputs": [
    {
     "name": "stdout",
     "text": [
      "{\n",
      "  \"shell_port\": 64532,\n",
      "  \"iopub_port\": 64533,\n",
      "  \"stdin_port\": 64534,\n",
      "  \"control_port\": 64535,\n",
      "  \"hb_port\": 64536,\n",
      "  \"ip\": \"127.0.0.1\",\n",
      "  \"key\": \"0ee93feb-820a057087b1335a7d79f966\",\n",
      "  \"transport\": \"tcp\",\n",
      "  \"signature_scheme\": \"hmac-sha256\",\n",
      "  \"kernel_name\": \"\"\n",
      "}\n",
      "\n",
      "Paste the above JSON into a file, and connect with:\n",
      "    $> jupyter <app> --existing <file>\n",
      "or, if you are local, you can connect with just:\n",
      "    $> jupyter <app> --existing kernel-eba1699c-4c8d-4e54-ad98-4821aeff5899.json\n",
      "or even just:\n",
      "    $> jupyter <app> --existing\n",
      "if this is the most recent Jupyter kernel you have started.\n"
     ],
     "output_type": "stream"
    }
   ],
   "source": [
    "# % jupyter qtconsole\n",
    "%connect_info"
   ]
  },
  {
   "cell_type": "code",
   "execution_count": 2,
   "metadata": {
    "pycharm": {
     "is_executing": false
    }
   },
   "outputs": [],
   "source": [
    "import qtconsole\n",
    "# %qtconsole\n",
    "# jupyter qtconsole\n",
    "%qtconsole"
   ]
  },
  {
   "cell_type": "code",
   "execution_count": 3,
   "metadata": {
    "pycharm": {
     "is_executing": false,
     "name": "#%%\n"
    }
   },
   "outputs": [
    {
     "name": "stdout",
     "text": [
      "0\n",
      "1\n",
      "2\n",
      "3\n",
      "4\n"
     ],
     "output_type": "stream"
    }
   ],
   "source": [
    "for i in range(0,5):\n",
    "    print(i)"
   ]
  },
  {
   "cell_type": "code",
   "execution_count": 4,
   "metadata": {
    "pycharm": {
     "is_executing": false,
     "name": "#%% # Let's try to import a library\n"
    }
   },
   "outputs": [
    {
     "data": {
      "text/plain": "<Figure size 640x480 with 1 Axes>"
     },
     "metadata": {},
     "output_type": "display_data"
    },
    {
     "name": "stdout",
     "text": [
      "plotshown\n"
     ],
     "output_type": "stream"
    }
   ],
   "source": [
    "import matplotlib.pyplot as plt\n",
    "plt.plot([1,2,3], [1,3,4], marker='o', markersize=14, markerfacecolor='red', \n",
    "         linewidth=2, markeredgewidth=2)\n",
    "plt.title('plotTitle', fontname='Comic Sans MS', fontsize=28)\n",
    "plt.show()\n",
    "print('plotshown')\n"
   ]
  },
  {
   "cell_type": "markdown",
   "metadata": {},
   "source": [
    "## Debug features\n",
    "- [overview](https://www.jetbrains.com/pycharm/) at JetBrains\n",
    "- blue bits in the gutter are stuff changed since last checkin\n",
    "- run configuration concept\n",
    " - drop to console automatically at the end (Command window, after script)\n",
    " - complete at the end\n",
    "- listing all breakpoints in all files in the project. \n",
    " - preserving breakpoints across PyCharm restarts\n",
    "- To show separator lines between methods in the editor, open the editor settings and select the Show method separators check box in the Appearance page. \n",
    "- remap CTRL+SHIFT+F10 to F5, so that it'll run the current file.\n",
    "- import default stuff immediately by customizing the BUILD/EXECUTION/DEBUGGER -> CONSOLE -> (code here, incl def. imports). Also, \"from matlablib import *\" to have access to my functions.\n",
    "- Overwrite with IPython to get magics. USe magics to auto-reload modules (if you need to)\n",
    "- run notebooks\n",
    "- CTRL+TAB to flip back and forth\n",
    "- Built in code-profiling in RUN-profiles\n",
    "- embed() will drop to console immediately without running rest of script\n",
    "\n",
    "## IPython magics:\n",
    "- run file with \"%run Analysis-On-My-Words.py\"\n",
    "- embed() drops to console"
   ]
  },
  {
   "cell_type": "markdown",
   "metadata": {},
   "source": [
    "## shortcuts i customized\n",
    "\n",
    "#* alt < and alt+>  , back, and forward\n",
    "#* CTRL+ENTER - execute cell\n",
    "#* F9 - execute selection \n",
    " "
   ]
  },
  {
   "cell_type": "markdown",
   "metadata": {
    "pycharm": {
     "name": "#%% md\n"
    }
   },
   "source": [
    "See Settings->Editor->General->Smart Keys\n",
    "CTRL+SHIFT+A            SEARCh actions\n",
    "CTRL+ALT+INSERT         paste from memory\n",
    "\n",
    "\n",
    "\n",
    "\n",
    "# Notes\n",
    "* CTRL+G,           goto line\n",
    "* CTRL+SHIFT+G,     enable/disable code previe plugin\n",
    "* CTRL+Q,           documentation\n",
    "* CTRL+SPACE,       autocomplete popup\n",
    "* SHIFT,SHIFT,      search chord\n",
    "* CTRL+SHIFT+F12,   shortcut keys\n",
    "* CTRL+DELETE       greedy delete to end of word\n",
    "* CTRL+SHIFT+Delete Delete line\n",
    "* ATL+SHIFT+C       show recent history\n",
    "* CTRL+SPACE        autocomplete popup\n",
    "\n",
    "\n",
    "## Navigating\n",
    "* ALT+`,            python console window toggle, JUMPS CURSOR\n",
    "* CTRL+TAB          toggle edit locations (!!)\n",
    "* ALT+ L/RIGHT,     previous/next editing position\n",
    "* SHIFT+SPACE       jump out from cursor (RIGHT\n",
    "* TAB,              jump outside of closing bracket\n",
    "* SHIFT+ENTER,      new line inside of closing bracket\n",
    "* CTRL+E            open recent files\n",
    "* CTRL+ALT+L/R      Next/Prev tab\n",
    "* CTRL+W           Close current tab\n",
    "* CTRL+SHIFT+S      Settings\n",
    "* CTRL+D            declaration or useage (jump to)\n",
    "* F4                jump to source\n",
    "* CTRL+SHIFT+UP/DOWN  - in editor window makes larger/smaller\n",
    "* CTRL+ALT+SHIFT+N  Instantly go to definition (start typing, say \"cc\")\n",
    "\n",
    "## Execution\n",
    "* F5                replace CTRL+SHIFT+F10 (Run Context Configuration) with F5 to run any script\n",
    "\n",
    "## Multi-cursor\n",
    "\n",
    "* MULTICURSOR\n",
    "    * CTRL+CTRL(HOLD) + UP/DOWN to insert cursors\n",
    "    * press Alt+L_BUTTON_CLICK and select the caret locations with the mouse\n",
    "    * ?TODO or press Ctrl+G to add the next occurrence of the current word to the selection\n",
    "    * ?TODO delete from the selection, press Ctrl+Shift+G. \n",
    "* SHIFT+DELETE,         deletes entire row\n",
    "* ALT+SHIFT+INSERT,     Mouse BLOCK Selection Mode\n",
    "* CTRL+UP/DOWN,         jump to next cell\n",
    "* CTRL + SHIFT+INSERT,  paste from clipboard\n",
    "\n",
    "## Selection\n",
    "* CTRL+PgUp, extend selection\n",
    "* CTRL+PgDn, contract selection\n",
    "* CTRL+SHIFT+ UP or DOWN drags line up and down\n",
    "* SHIFT+CTRL+ALT+J selects and joins all element at cursor, [REF](https://blog.jetbrains.com/pycharm/2014/09/feature-spotlight-multiple-selections-in-pycharm/)\n",
    "* CTRL+SHIFT+D      duplicate selection\n",
    "\n",
    "## GIT\n",
    "* CTRL+K, commit\n",
    "* CTRL+ALT+K, commit and push\n",
    "\n",
    "\n",
    "## In Editor\n",
    "* CTRL+ALT+INSERT       New File\n",
    "\n",
    "## HELP\n",
    "* <setting>         Disable Auto-Update from Source\n"
   ]
  },
  {
   "cell_type": "markdown",
   "metadata": {},
   "source": [
    "# Feature spotlight\n",
    "* select all occurrences: Shift + Ctrl + Alt + J, [ref](https://blog.jetbrains.com/pycharm/2014/09/feature-spotlight-multiple-selections-in-pycharm/)\n",
    "* [my text](www.google.com)\n",
    "* multicursor , [REF](https://www.jetbrains.com/help/rider/Multicursor.html)\n"
   ]
  },
  {
   "cell_type": "markdown",
   "metadata": {
    "pycharm": {
     "is_executing": false,
     "name": "#%% md\n"
    }
   },
   "source": [
    "# Environment\n",
    "* Settings>console> \"Add whatever I want\" import * from matlablib at every iPython console\n",
    "* iPython MAGICS commands!\n",
    "* clear variables and close graphs using cc()\n",
    "* drop to keyboard via assert(False)\n",
    "\n",
    "##\n",
    "\n",
    "\n",
    "##\n",
    "\n",
    "print('done d')"
   ]
  },
  {
   "cell_type": "code",
   "execution_count": 4,
   "metadata": {
    "pycharm": {
     "is_executing": false,
     "name": "#%%\n"
    }
   },
   "outputs": [],
   "source": [
    "\n"
   ]
  }
 ],
 "metadata": {
  "kernelspec": {
   "display_name": "PyCharm (Learning1)",
   "language": "python",
   "name": "pycharm-96843d33"
  },
  "language_info": {
   "codemirror_mode": {
    "name": "ipython",
    "version": 3
   },
   "file_extension": ".py",
   "mimetype": "text/x-python",
   "name": "python",
   "nbconvert_exporter": "python",
   "pygments_lexer": "ipython3",
   "version": "3.7.4"
  },
  "pycharm": {
   "stem_cell": {
    "cell_type": "raw",
    "source": [],
    "metadata": {
     "collapsed": false
    }
   }
  }
 },
 "nbformat": 4,
 "nbformat_minor": 1
}