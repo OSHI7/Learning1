{
 "cells": [
  {
   "cell_type": "markdown",
   "metadata": {
    "collapsed": true,
    "pycharm": {
     "is_executing": false,
     "name": "#%% md\n"
    }
   },
   "source": [
    "# PyCharm "
   ]
  },
  {
   "cell_type": "markdown",
   "metadata": {
    "pycharm": {
     "name": "#%% md\n"
    }
   },
   "source": [
    "## Highlights\n",
    "\n",
    "### Special stuff\n",
    "* sync workstation prefs, plugins, keymaps\n",
    "* fuzzy search \"SHIFT+SHIFT\"\n",
    "\n",
    "### Matlab-like features\n",
    "* Run / Debug (can override shortcut keys\n",
    "* linke\n",
    "\n",
    "### Super-integrated Git\n",
    "* Commit with CTRL+K (Push with CTRL+ALT+K)\n",
    "\n",
    "### Native Jupyter Notebook support\n",
    "* run ipython has markdown, \n",
    "* manage server\n",
    "* inline, realtime MD rendering ($e^{i\\pi} + 1 = 0$)\n",
    "\n",
    "## Plugins\n",
    "* Quick File Preview\n",
    "* CSV plugin"
   ]
  },
  {
   "cell_type": "code",
   "execution_count": 1,
   "metadata": {
    "pycharm": {
     "is_executing": false,
     "name": "#%%\n"
    }
   },
   "outputs": [
    {
     "name": "stdout",
     "output_type": "stream",
     "text": [
      "0\n",
      "1\n",
      "2\n",
      "3\n",
      "4\n",
      "5\n",
      "6\n",
      "7\n",
      "8\n",
      "9\n"
     ]
    }
   ],
   "source": [
    "for i in range(0,10):\n",
    "    print(i)"
   ]
  },
  {
   "cell_type": "code",
   "execution_count": 2,
   "metadata": {
    "pycharm": {
     "is_executing": false,
     "name": "#%% # Let's try to import a library\n"
    }
   },
   "outputs": [
    {
     "data": {
      "text/plain": [
       "<Figure size 640x480 with 1 Axes>"
      ]
     },
     "metadata": {},
     "output_type": "display_data"
    },
    {
     "name": "stdout",
     "output_type": "stream",
     "text": [
      "plotshown\n"
     ]
    }
   ],
   "source": [
    "import matplotlib.pyplot as plt\n",
    "plt.plot([1,2,3], [1,3,4], marker='o', markersize=14, markerfacecolor='red', \n",
    "         linewidth=2, markeredgewidth=2)\n",
    "plt.title('plotTitle', fontname='Comic Sans MS', fontsize=28)\n",
    "plt.show()\n",
    "print('plotshown')\n",
    "\n",
    "## Markdown\n",
    "\n",
    "# Let's try to import a library\n",
    "\n"
   ]
  },
  {
   "cell_type": "code",
   "execution_count": 3,
   "metadata": {
    "pycharm": {
     "is_executing": false,
     "name": "#%%\n"
    }
   },
   "outputs": [
    {
     "ename": "SyntaxError",
     "evalue": "invalid syntax (<ipython-input-3-20e945ae4f95>, line 3)",
     "output_type": "error",
     "traceback": [
      "\u001b[1;36m  File \u001b[1;32m\"<ipython-input-3-20e945ae4f95>\"\u001b[1;36m, line \u001b[1;32m3\u001b[0m\n\u001b[1;33m    Learning SciPy etc\u001b[0m\n\u001b[1;37m                 ^\u001b[0m\n\u001b[1;31mSyntaxError\u001b[0m\u001b[1;31m:\u001b[0m invalid syntax\n"
     ]
    }
   ],
   "source": [
    "# Learning1\n",
    "## sub level 2 \n",
    "Learning SciPy etc \n",
    "\n",
    "* item 1\n",
    "* item 2\n",
    "\n",
    "\n"
   ]
  },
  {
   "cell_type": "markdown",
   "metadata": {},
   "source": []
  },
  {
   "cell_type": "markdown",
   "metadata": {},
   "source": [
    "\n",
    "# Here is a heading\n",
    "## here is subheading \n"
   ]
  }
 ],
 "metadata": {
  "kernelspec": {
   "display_name": "PyCharm (Learning1)",
   "language": "python",
   "name": "pycharm-96843d33"
  },
  "language_info": {
   "codemirror_mode": {
    "name": "ipython",
    "version": 3
   },
   "file_extension": ".py",
   "mimetype": "text/x-python",
   "name": "python",
   "nbconvert_exporter": "python",
   "pygments_lexer": "ipython3",
   "version": "3.7.4"
  },
  "pycharm": {
   "stem_cell": {
    "cell_type": "raw",
    "metadata": {
     "collapsed": false
    },
    "source": []
   }
  }
 },
 "nbformat": 4,
 "nbformat_minor": 1
}
