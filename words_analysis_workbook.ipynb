{
 "cells": [
  {
   "cell_type": "code",
   "execution_count": 0,
   "metadata": {
    "collapsed": true
   },
   "outputs": [],
   "source": []
  },
  {
   "cell_type": "code",
   "execution_count": 3,
   "outputs": [
    {
     "output_type": "stream",
     "name": "stdout",
     "text": [
      "Described              :---------------------\nShowing duplicated rows:---------------------\n"
     ]
    }
   ],
   "source": [
    "import pandas as pd\n",
    "\n",
    "\n",
    "#% Load\n",
    "df = pd.read_csv('words.txt', delimiter='\\n', names=['WORDS'])\n",
    "\n",
    "df['WORDS'] = df['WORDS'].str.strip()\n",
    "df['WORDS'] = df['WORDS'].str.capitalize()\n",
    "\n",
    "df.sort_values('WORDS', ascending=True, inplace=True)\n",
    "print('Described              :---------------------')\n",
    "df.describe()\n",
    "print('Showing duplicated rows:---------------------')\n",
    "dupes = df[df.duplicated(keep=False)]\n"
   ],
   "metadata": {
    "collapsed": false,
    "pycharm": {
     "name": "#%%\n"
    }
   }
  },
  {
   "cell_type": "code",
   "execution_count": 4,
   "outputs": [
    {
     "output_type": "stream",
     "name": "stdout",
     "text": [
      "0: (160, 'Aaron')\n1: (533, 'Aaron')\n2: (624, 'Arrabon')\n3: (8, 'Arrabon')\n4: (333, 'Artemis')\n5: (608, 'Artemis')\n6: (551, 'Aster')\n7: (642, 'Aster')\n8: (402, 'Cadence')\n9: (456, 'Cadence')\n10: (108, 'Calamity')\n11: (369, 'Calamity')\n12: (172, 'Cherish')\n13: (42, 'Cherish')\n14: (379, 'Chrome')\n15: (191, 'Chrome')\n16: (214, 'Condor')\n17: (485, 'Condor')\n18: (207, 'Crucial')\n19: (31, 'Crucial')\n20: (599, 'Dagger')\n21: (275, 'Dagger')\n22: (671, 'Deke')\n23: (510, 'Deke')\n24: (521, 'Destiny')\n25: (68, 'Destiny')\n26: (634, 'Dissident')\n27: (343, 'Dissident')\n28: (552, 'Exocet')\n29: (307, 'Exocet')\n30: (545, 'Expander')\n31: (309, 'Expander')\n32: (486, 'Fury')\n33: (459, 'Fury')\n34: (454, 'Gabriel')\n35: (553, 'Gabriel')\n36: (573, 'Gauntlet')\n37: (141, 'Gauntlet')\n38: (518, 'Harness')\n39: (128, 'Harness')\n40: (24, 'Jenkins')\n41: (143, 'Jenkins')\n42: (330, 'Nitro')\n43: (441, 'Nitro')\n44: (282, 'Ocelot')\n45: (682, 'Ocelot')\n46: (476, 'Panic')\n47: (468, 'Panic')\n48: (558, 'Phalanx')\n49: (359, 'Phalanx')\n50: (453, 'Polaris')\n51: (559, 'Polaris')\n52: (632, 'Ryu')\n53: (277, 'Ryu')\n54: (400, 'Skirmish')\n55: (626, 'Skirmish')\n56: (92, 'Skirmish')\n57: (193, 'Solomon')\n58: (413, 'Solomon')\n59: (577, 'Spearfish')\n60: (520, 'Spearfish')\n61: (390, 'Spectre')\n62: (612, 'Spectre')\n63: (494, 'Squadron')\n64: (216, 'Squadron')\n65: (329, 'Stag')\n66: (211, 'Stag')\n67: (212, 'Stark')\n68: (352, 'Stark')\n69: (385, 'Sting')\n70: (428, 'Sting')\n71: (615, 'Storm')\n72: (121, 'Storm')\n73: (499, 'Strike')\n74: (226, 'Strike')\n75: (414, 'Strive')\n76: (169, 'Strive')\n77: (600, 'Subsonic')\n78: (629, 'Subsonic')\n79: (602, 'Titan')\n80: (349, 'Titan')\n81: (636, 'Triton')\n82: (549, 'Triton')\n83: (539, 'Underboss')\n84: (583, 'Underboss')\n85: (548, 'Underboss')\n86: (290, 'Wrangle')\n87: (540, 'Wrangle')\n"
     ]
    },
    {
     "output_type": "error",
     "ename": "AttributeError",
     "evalue": "'numpy.ndarray' object has no attribute 'items'",
     "traceback": [
      "\u001B[1;31m---------------------------------------------------------------------------\u001B[0m",
      "\u001B[1;31mAttributeError\u001B[0m                            Traceback (most recent call last)",
      "\u001B[1;32m<ipython-input-4-9a716b6e37f9>\u001B[0m in \u001B[0;36m<module>\u001B[1;34m\u001B[0m\n\u001B[0;32m      5\u001B[0m \u001B[0muniques\u001B[0m \u001B[1;33m=\u001B[0m \u001B[0mdf\u001B[0m\u001B[1;33m[\u001B[0m\u001B[1;34m'WORDS'\u001B[0m\u001B[1;33m]\u001B[0m\u001B[1;33m.\u001B[0m\u001B[0munique\u001B[0m\u001B[1;33m(\u001B[0m\u001B[1;33m)\u001B[0m\u001B[1;33m\u001B[0m\u001B[1;33m\u001B[0m\u001B[0m\n\u001B[0;32m      6\u001B[0m \u001B[1;33m\u001B[0m\u001B[0m\n\u001B[1;32m----> 7\u001B[1;33m \u001B[1;32mfor\u001B[0m \u001B[0melement\u001B[0m \u001B[1;32min\u001B[0m \u001B[0muniques\u001B[0m\u001B[1;33m.\u001B[0m\u001B[0mitems\u001B[0m\u001B[1;33m(\u001B[0m\u001B[1;33m)\u001B[0m\u001B[1;33m:\u001B[0m\u001B[1;33m\u001B[0m\u001B[1;33m\u001B[0m\u001B[0m\n\u001B[0m\u001B[0;32m      8\u001B[0m     \u001B[0mprint\u001B[0m\u001B[1;33m(\u001B[0m\u001B[1;34mf\"{element}\"\u001B[0m\u001B[1;33m)\u001B[0m\u001B[1;33m\u001B[0m\u001B[1;33m\u001B[0m\u001B[0m\n",
      "\u001B[1;31mAttributeError\u001B[0m: 'numpy.ndarray' object has no attribute 'items'"
     ]
    }
   ],
   "source": [
    "for i, dupe in enumerate(dupes['WORDS'].items()):\n",
    "    print(f\"{i}: {dupe}\")\n",
    "\n",
    "# %% Unique elements\n",
    "uniques = df['WORDS'].unique()\n",
    "\n",
    "for element in uniques.items():\n",
    "    print(f\"{element}\")"
   ],
   "metadata": {
    "collapsed": false,
    "pycharm": {
     "name": "#%%\n"
    }
   }
  },
  {
   "cell_type": "code",
   "execution_count": 6,
   "outputs": [
    {
     "name": "stdout",
     "output_type": "stream",
     "text": [
      "0\n",
      "1\n",
      "2\n",
      "3\n",
      "4\n",
      "5\n",
      "6\n",
      "7\n",
      "8\n",
      "9\n",
      "10\n",
      "donnu3\n"
     ]
    }
   ],
   "source": [
    "for i in range(0,11):\n",
    "    print(i)\n",
    "print('donnu3')\n"
   ],
   "metadata": {
    "collapsed": false,
    "pycharm": {
     "name": "#%%\n"
    }
   }
  }
 ],
 "metadata": {
  "kernelspec": {
   "name": "pycharm-2ba3083a",
   "language": "python",
   "display_name": "PyCharm (Learning1)"
  },
  "language_info": {
   "codemirror_mode": {
    "name": "ipython",
    "version": 2
   },
   "file_extension": ".py",
   "mimetype": "text/x-python",
   "name": "python",
   "nbconvert_exporter": "python",
   "pygments_lexer": "ipython2",
   "version": "3.7.4-final"
  }
 },
 "nbformat": 4,
 "nbformat_minor": 0
}