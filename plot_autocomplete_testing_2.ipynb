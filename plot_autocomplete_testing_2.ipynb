{
 "cells": [
  {
   "cell_type": "code",
   "execution_count": 7,
   "metadata": {
    "tags": []
   },
   "outputs": [],
   "source": [
    "\n",
    "# Causes pop-out graphics\n",
    "import matplotlib\n",
    "matplotlib.use('Qt5Agg') \n",
    "\n",
    "import matplotlib.pyplot as plt \n",
    "\n",
    "#plt.switch_backend('QtAgg4')\n",
    "\n",
    "get_ipython().run_line_magic('matplotlib', 'inline')"
   ]
  },
  {
   "cell_type": "code",
   "execution_count": 8,
   "metadata": {
    "tags": []
   },
   "outputs": [],
   "source": [
    "figure,ax = plt.subplots()\n",
    "\n",
    "ax.set_title('host')\n",
    "ax.set_ylabel('hiffas')\n",
    "figure.tight_layout()"
   ]
  },
  {
   "cell_type": "code",
   "execution_count": 2,
   "metadata": {
    "tags": []
   },
   "outputs": [
    {
     "name": "stdout",
     "output_type": "stream",
     "text": [
      "your eye is: 0\n",
      "your eye is: 1\n",
      "your eye is: 2\n"
     ]
    }
   ],
   "source": [
    "# breakpoint()\n",
    "\n",
    "for i in range(3):\n",
    "    print(f\"your eye is: {i}\")"
   ]
  },
  {
   "cell_type": "code",
   "execution_count": null,
   "metadata": {},
   "outputs": [],
   "source": []
  }
 ],
 "metadata": {
  "kernelspec": {
   "display_name": "PyCharm (Learning1)",
   "language": "python",
   "name": "pycharm-2ba3083a"
  },
  "language_info": {
   "codemirror_mode": {
    "name": "ipython",
    "version": 3
   },
   "file_extension": ".py",
   "mimetype": "text/x-python",
   "name": "python",
   "nbconvert_exporter": "python",
   "pygments_lexer": "ipython3",
   "version": "3.7.4"
  },
  "toc-autonumbering": false,
  "toc-showcode": true,
  "toc-showmarkdowntxt": false,
  "toc-showtags": false
 },
 "nbformat": 4,
 "nbformat_minor": 4
}